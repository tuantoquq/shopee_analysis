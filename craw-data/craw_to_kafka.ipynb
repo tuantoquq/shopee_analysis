{
 "cells": [
  {
   "cell_type": "code",
   "execution_count": null,
   "metadata": {},
   "outputs": [],
   "source": [
    "import sys\n",
    "sys.path.append('../craw-data')\n",
    "from kafka import KafkaProducer\n",
    "import requests\n",
    "from json import dumps\n",
    "import time\n",
    "from kafka import KafkaConsumer"
   ]
  },
  {
   "cell_type": "code",
   "execution_count": null,
   "metadata": {},
   "outputs": [],
   "source": [
    "from get_detaill_item import get_detail_product\n",
    "from get_item_and_shop_ids import get_item_shop_info"
   ]
  },
  {
   "cell_type": "code",
   "execution_count": null,
   "metadata": {},
   "outputs": [],
   "source": [
    "import pandas as pd\n",
    "categoryList = pd.read_csv('../craw-data/raw-data/category_list.csv')\n",
    "categoryList.head()"
   ]
  },
  {
   "cell_type": "code",
   "execution_count": null,
   "metadata": {},
   "outputs": [],
   "source": [
    "def get_data(raw_dict, list_attribute):\n",
    "    output = {}\n",
    "    for att in list_attribute:\n",
    "        output[att] = raw_dict[att]\n",
    "    return output"
   ]
  },
  {
   "cell_type": "code",
   "execution_count": null,
   "metadata": {},
   "outputs": [],
   "source": [
    "from kafka import KafkaProducer\n",
    "kafka_producer = KafkaProducer(bootstrap_servers='localhost:9092', value_serializer=lambda x: dumps(x).encode('utf-8'))\n",
    "# from a - b category\n",
    "a = 24\n",
    "b = 27\n",
    "list_attributes = [\"itemid\", \"shopid\", \"price_before_discount\", \"price\", \"discount\", \"historical_sold\", \"sold\", \"name\", \"item_status\", \"item_rating\", \"liked_count\", \"cmt_count\", \"item_type\", \"shop_location\", \"global_sold\", \"shop_vouchers\", \"categories\"]\n",
    "for item in range(a,b):\n",
    "    data = []\n",
    "    topic = categoryList.catid.iloc[item]\n",
    "    print(f'topic {item} \"{categoryList.display_name.iloc[item]}\" is runing...')\n",
    "    for newest in range(0,8001,60): \n",
    "        item_list_id = get_item_shop_info(topic,newest)\n",
    "        data.extend(get_detail_product(item_list_id,topic))\n",
    "    message_data = list(map(lambda x: get_data(x,list_attributes),data))\n",
    "    for it in message_data:\n",
    "        print(\"publishing to kafka...\")\n",
    "        kafka_producer.send('item-shopee', value=it)"
   ]
  }
 ],
 "metadata": {
  "language_info": {
   "name": "python"
  },
  "orig_nbformat": 4
 },
 "nbformat": 4,
 "nbformat_minor": 2
}
