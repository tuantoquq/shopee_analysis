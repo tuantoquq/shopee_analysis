{
 "cells": [
  {
   "cell_type": "code",
   "execution_count": null,
   "metadata": {},
   "outputs": [],
   "source": [
    "import os \n",
    "es = \"org.elasticsearch:elasticsearch-spark-30_2.12:7.12.1\"\n",
    "http_scala='org.apache.httpcomponents:httpclient:4.5.13'\n",
    "common_client='commons-httpclient:commons-httpclient:3.1'\n",
    "\n",
    "os.environ[\"PYSPARK_SUBMIT_ARGS\"] = (\"--packages {},{},{} pyspark-shell\".format(es, http_scala,common_client))\n",
    "from pyspark.sql import SparkSession\n",
    "from elasticsearch import Elasticsearch, helpers\n"
   ]
  },
  {
   "cell_type": "code",
   "execution_count": null,
   "metadata": {},
   "outputs": [],
   "source": [
    "spark = SparkSession.builder\\\n",
    "    .appName('hdfs-to-elasticsearch')\\\n",
    "    .master('spark://bacener:7077').getOrCreate()"
   ]
  },
  {
   "cell_type": "code",
   "execution_count": null,
   "metadata": {},
   "outputs": [],
   "source": [
    "df = spark.read.parquet('hdfs://0.0.0.0:9000/user/tuannha/clean-data')"
   ]
  },
  {
   "cell_type": "code",
   "execution_count": null,
   "metadata": {},
   "outputs": [],
   "source": [
    "df.printSchema()"
   ]
  },
  {
   "cell_type": "code",
   "execution_count": null,
   "metadata": {},
   "outputs": [],
   "source": [
    "data = df.toPandas()"
   ]
  },
  {
   "cell_type": "code",
   "execution_count": null,
   "metadata": {},
   "outputs": [],
   "source": [
    "def convert_data(data):\n",
    "    data['price'] = data['price'].astype(float)/100000\n",
    "    data['price_before_discount'] = data['price_before_discount'].astype(float)/100000\n",
    "    data['rating_star'] = data.item_rating.apply(lambda x: eval(x)['rating_star'])\n",
    "    data['category']= data.categories.apply(lambda x: eval(x)[0]['display_name'])\n",
    "    data.drop(columns=['item_rating', 'categories'],inplace=True)\n",
    "    cols = ['historical_sold','raw_discount','cmt_count','price','liked_count','rating_star']\n",
    "    data[cols] = data[cols].astype(float)\n",
    "    return data\n",
    "\n",
    "df2 = convert_data(data)\n",
    "df2"
   ]
  },
  {
   "cell_type": "code",
   "execution_count": null,
   "metadata": {},
   "outputs": [],
   "source": [
    "final_df = spark.createDataFrame(df2)"
   ]
  },
  {
   "cell_type": "code",
   "execution_count": null,
   "metadata": {},
   "outputs": [],
   "source": [
    "final_df.printSchema()"
   ]
  },
  {
   "cell_type": "code",
   "execution_count": null,
   "metadata": {},
   "outputs": [],
   "source": [
    "final_df.show(5)"
   ]
  },
  {
   "cell_type": "code",
   "execution_count": null,
   "metadata": {},
   "outputs": [],
   "source": [
    "final_df.write.format(\n",
    "    \"org.elasticsearch.spark.sql\"\n",
    ").option(\n",
    "    \"es.resource\", '%s/%s' % ('item_shopee_v1', 'data')\n",
    ").option(\n",
    "    \"es.nodes\", 'localhost'\n",
    ").option(\n",
    "    \"es.port\", 9200\n",
    ").save()"
   ]
  },
  {
   "cell_type": "code",
   "execution_count": null,
   "metadata": {},
   "outputs": [],
   "source": []
  }
 ],
 "metadata": {
  "interpreter": {
   "hash": "31f2aee4e71d21fbe5cf8b01ff0e069b9275f58929596ceb00d14d90e3e16cd6"
  },
  "kernelspec": {
   "display_name": "Python 3.8.10 64-bit",
   "language": "python",
   "name": "python3"
  },
  "language_info": {
   "codemirror_mode": {
    "name": "ipython",
    "version": 3
   },
   "file_extension": ".py",
   "mimetype": "text/x-python",
   "name": "python",
   "nbconvert_exporter": "python",
   "pygments_lexer": "ipython3",
   "version": "3.8.10"
  },
  "orig_nbformat": 4
 },
 "nbformat": 4,
 "nbformat_minor": 2
}
